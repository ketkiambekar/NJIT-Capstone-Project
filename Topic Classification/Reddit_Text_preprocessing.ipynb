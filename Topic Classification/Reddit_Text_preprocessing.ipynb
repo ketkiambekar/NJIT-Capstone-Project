{
  "nbformat": 4,
  "nbformat_minor": 0,
  "metadata": {
    "colab": {
      "name": "Reddit_Text_preprocessing.ipynb",
      "provenance": [],
      "authorship_tag": "ABX9TyNkWtc13xRwVACz6HCzPAiY",
      "include_colab_link": true
    },
    "kernelspec": {
      "name": "python3",
      "display_name": "Python 3"
    }
  },
  "cells": [
    {
      "cell_type": "markdown",
      "metadata": {
        "id": "view-in-github",
        "colab_type": "text"
      },
      "source": [
        "<a href=\"https://colab.research.google.com/github/eveapp/data_science/blob/ketki/Topic%20Classification%20F20/Reddit_Text_preprocessing.ipynb\" target=\"_parent\"><img src=\"https://colab.research.google.com/assets/colab-badge.svg\" alt=\"Open In Colab\"/></a>"
      ]
    },
    {
      "cell_type": "markdown",
      "metadata": {
        "id": "wsUJFchkbp6T"
      },
      "source": [
        "In this notebook, we clean and preprocess our reddit data.\n",
        "\n",
        "For cleaning we do the following to the values of 'body' column:\n",
        "  - Remove punctuations\n",
        "  - Convert to lowercase\n",
        "  - Remove Word Contractions (e.g. I've to I have).\n",
        "  - Remove Stop Words (e.g. has, at, etc)\n",
        "\n",
        "For Text Preprocessing we do the following to the values of 'cleaned_body' column:\n",
        " - Tokenize the text\n",
        " - Tag Parts of speech using NLTK standard POS tagging\n",
        " - Convert std NLTK POS tagging to WordNet POS tagging format. \n",
        " - Lemmatize the Wordnet POS tagged data\n",
        "\n",
        " We save the cleaned and Preprocessed data into a csv for further EDA\n"
      ]
    },
    {
      "cell_type": "code",
      "metadata": {
        "id": "fiQpQZCH9I44",
        "colab": {
          "base_uri": "https://localhost:8080/"
        },
        "outputId": "1a382d1b-850d-407f-c8ef-2bd376c3a4fa"
      },
      "source": [
        "pip install contractions"
      ],
      "execution_count": null,
      "outputs": [
        {
          "output_type": "stream",
          "text": [
            "Collecting contractions\n",
            "  Downloading https://files.pythonhosted.org/packages/00/92/a05b76a692ac08d470ae5c23873cf1c9a041532f1ee065e74b374f218306/contractions-0.0.25-py2.py3-none-any.whl\n",
            "Collecting textsearch\n",
            "  Downloading https://files.pythonhosted.org/packages/42/a8/03407021f9555043de5492a2bd7a35c56cc03c2510092b5ec018cae1bbf1/textsearch-0.0.17-py2.py3-none-any.whl\n",
            "Collecting Unidecode\n",
            "\u001b[?25l  Downloading https://files.pythonhosted.org/packages/d0/42/d9edfed04228bacea2d824904cae367ee9efd05e6cce7ceaaedd0b0ad964/Unidecode-1.1.1-py2.py3-none-any.whl (238kB)\n",
            "\u001b[K     |████████████████████████████████| 245kB 7.8MB/s \n",
            "\u001b[?25hCollecting pyahocorasick\n",
            "\u001b[?25l  Downloading https://files.pythonhosted.org/packages/f4/9f/f0d8e8850e12829eea2e778f1c90e3c53a9a799b7f412082a5d21cd19ae1/pyahocorasick-1.4.0.tar.gz (312kB)\n",
            "\u001b[K     |████████████████████████████████| 317kB 13.1MB/s \n",
            "\u001b[?25hBuilding wheels for collected packages: pyahocorasick\n",
            "  Building wheel for pyahocorasick (setup.py) ... \u001b[?25l\u001b[?25hdone\n",
            "  Created wheel for pyahocorasick: filename=pyahocorasick-1.4.0-cp36-cp36m-linux_x86_64.whl size=81707 sha256=8240017205bb758d1282f4dfd588994b25e985dcd86b8b91704e9eb8f265cc10\n",
            "  Stored in directory: /root/.cache/pip/wheels/0a/90/61/87a55f5b459792fbb2b7ba6b31721b06ff5cf6bde541b40994\n",
            "Successfully built pyahocorasick\n",
            "Installing collected packages: Unidecode, pyahocorasick, textsearch, contractions\n",
            "Successfully installed Unidecode-1.1.1 contractions-0.0.25 pyahocorasick-1.4.0 textsearch-0.0.17\n"
          ],
          "name": "stdout"
        }
      ]
    },
    {
      "cell_type": "code",
      "metadata": {
        "id": "iwF5ZDGHfT2r",
        "colab": {
          "base_uri": "https://localhost:8080/"
        },
        "outputId": "f970c5c3-6b95-48d4-b04b-36bb55f50a26"
      },
      "source": [
        "import contractions\n",
        "import nltk\n",
        "import pandas as pd\n",
        "import numpy as np\n",
        "import seaborn as sns\n",
        "import matplotlib.pyplot as plt\n",
        "from nltk.tokenize import word_tokenize\n",
        "from nltk.corpus import stopwords, wordnet\n",
        "from nltk.stem import WordNetLemmatizer\n",
        "import string\n",
        "%matplotlib inline\n",
        "\n",
        "nltk.download('punkt')\n",
        "nltk.download('stopwords')\n",
        "nltk.download('averaged_perceptron_tagger')\n",
        "nltk.download('wordnet')"
      ],
      "execution_count": null,
      "outputs": [
        {
          "output_type": "stream",
          "text": [
            "[nltk_data] Downloading package punkt to /root/nltk_data...\n",
            "[nltk_data]   Unzipping tokenizers/punkt.zip.\n",
            "[nltk_data] Downloading package stopwords to /root/nltk_data...\n",
            "[nltk_data]   Unzipping corpora/stopwords.zip.\n",
            "[nltk_data] Downloading package averaged_perceptron_tagger to\n",
            "[nltk_data]     /root/nltk_data...\n",
            "[nltk_data]   Unzipping taggers/averaged_perceptron_tagger.zip.\n",
            "[nltk_data] Downloading package wordnet to /root/nltk_data...\n",
            "[nltk_data]   Unzipping corpora/wordnet.zip.\n"
          ],
          "name": "stdout"
        },
        {
          "output_type": "execute_result",
          "data": {
            "text/plain": [
              "True"
            ]
          },
          "metadata": {
            "tags": []
          },
          "execution_count": 2
        }
      ]
    },
    {
      "cell_type": "code",
      "metadata": {
        "colab": {
          "base_uri": "https://localhost:8080/",
          "height": 649
        },
        "id": "F125qpG8EQPW",
        "outputId": "d72d9129-eddd-4f1a-8b57-3426df136e71"
      },
      "source": [
        "df_old=pd.read_csv('Labelled_dataset.csv')\n",
        "df_old.head()"
      ],
      "execution_count": null,
      "outputs": [
        {
          "output_type": "execute_result",
          "data": {
            "text/html": [
              "<div>\n",
              "<style scoped>\n",
              "    .dataframe tbody tr th:only-of-type {\n",
              "        vertical-align: middle;\n",
              "    }\n",
              "\n",
              "    .dataframe tbody tr th {\n",
              "        vertical-align: top;\n",
              "    }\n",
              "\n",
              "    .dataframe thead th {\n",
              "        text-align: right;\n",
              "    }\n",
              "</style>\n",
              "<table border=\"1\" class=\"dataframe\">\n",
              "  <thead>\n",
              "    <tr style=\"text-align: right;\">\n",
              "      <th></th>\n",
              "      <th>Unnamed: 0</th>\n",
              "      <th>score</th>\n",
              "      <th>id</th>\n",
              "      <th>url</th>\n",
              "      <th>comms_num</th>\n",
              "      <th>title</th>\n",
              "      <th>body</th>\n",
              "      <th>timestamp</th>\n",
              "      <th>label</th>\n",
              "      <th>Sentiment</th>\n",
              "      <th>wordnet_pos</th>\n",
              "      <th>lemmatized</th>\n",
              "      <th>clean_body</th>\n",
              "      <th>clean_body_str</th>\n",
              "      <th>tokenized</th>\n",
              "      <th>pos_tags</th>\n",
              "    </tr>\n",
              "  </thead>\n",
              "  <tbody>\n",
              "    <tr>\n",
              "      <th>0</th>\n",
              "      <td>NaN</td>\n",
              "      <td>88</td>\n",
              "      <td>d3mxw2</td>\n",
              "      <td>https://www.reddit.com/r/cancer/comments/d3mxw...</td>\n",
              "      <td>32</td>\n",
              "      <td>Fuck that Bell!</td>\n",
              "      <td>Sorry for the title, but I wish the bell ringi...</td>\n",
              "      <td>2019-09-13 17:55:58</td>\n",
              "      <td>6.0</td>\n",
              "      <td>NaN</td>\n",
              "      <td>[('sorry', 'a'), ('title', 'n'), ('wish', 'a')...</td>\n",
              "      <td>['sorry', 'title', 'wish', 'bell', 'ring', 'pa...</td>\n",
              "      <td>['sorry', 'title', 'wish', 'bell', 'ringing', ...</td>\n",
              "      <td>sorry title wish bell ringing party music cele...</td>\n",
              "      <td>['sorry', 'title', 'wish', 'bell', 'ringing', ...</td>\n",
              "      <td>[('sorry', 'JJ'), ('title', 'NN'), ('wish', 'J...</td>\n",
              "    </tr>\n",
              "    <tr>\n",
              "      <th>1</th>\n",
              "      <td>NaN</td>\n",
              "      <td>7</td>\n",
              "      <td>hesliu</td>\n",
              "      <td>https://www.reddit.com/r/CancerFamilySupport/c...</td>\n",
              "      <td>4</td>\n",
              "      <td>Father suffering from end stage aggression. Wo...</td>\n",
              "      <td>My dad was diagnosed with stage 4 bone cancer ...</td>\n",
              "      <td>2020-06-24 10:35:34</td>\n",
              "      <td>7.0</td>\n",
              "      <td>NaN</td>\n",
              "      <td>[('dad', 'n'), ('diagnosed', 'v'), ('stage', '...</td>\n",
              "      <td>['dad', 'diagnose', 'stage', 'bone', 'cancer',...</td>\n",
              "      <td>['dad', 'diagnosed', 'stage', 'bone', 'cancer'...</td>\n",
              "      <td>dad diagnosed stage bone cancer january made d...</td>\n",
              "      <td>['dad', 'diagnosed', 'stage', 'bone', 'cancer'...</td>\n",
              "      <td>[('dad', 'NN'), ('diagnosed', 'VBD'), ('stage'...</td>\n",
              "    </tr>\n",
              "    <tr>\n",
              "      <th>2</th>\n",
              "      <td>NaN</td>\n",
              "      <td>76</td>\n",
              "      <td>50p82p</td>\n",
              "      <td>https://www.reddit.com/r/cancer/comments/50p82...</td>\n",
              "      <td>17</td>\n",
              "      <td>last chemo was today :)</td>\n",
              "      <td>just finished my last of 12 abvd infusions. I ...</td>\n",
              "      <td>2016-09-02 4:01:24</td>\n",
              "      <td>2.0</td>\n",
              "      <td>NaN</td>\n",
              "      <td>[('finished', 'v'), ('last', 'a'), ('abvd', 'a...</td>\n",
              "      <td>['finish', 'last', 'abvd', 'infusion', 'feel',...</td>\n",
              "      <td>['finished', 'last', 'abvd', 'infusions', 'fee...</td>\n",
              "      <td>finished last abvd infusions feel terrible kno...</td>\n",
              "      <td>['finished', 'last', 'abvd', 'infusions', 'fee...</td>\n",
              "      <td>[('finished', 'VBN'), ('last', 'JJ'), ('abvd',...</td>\n",
              "    </tr>\n",
              "    <tr>\n",
              "      <th>3</th>\n",
              "      <td>NaN</td>\n",
              "      <td>2</td>\n",
              "      <td>dg7uwq</td>\n",
              "      <td>https://www.reddit.com/r/CancerCaregivers/comm...</td>\n",
              "      <td>2</td>\n",
              "      <td>ER phobia?</td>\n",
              "      <td>Have any of your loved ones checked out of the...</td>\n",
              "      <td>2019-10-11 9:22:41</td>\n",
              "      <td>7.0</td>\n",
              "      <td>NaN</td>\n",
              "      <td>[('loved', 'v'), ('ones', 'n'), ('checked', 'v...</td>\n",
              "      <td>['love', 'one', 'check', 'hospital', 'ama', 'm...</td>\n",
              "      <td>['loved', 'ones', 'checked', 'hospital', 'ama'...</td>\n",
              "      <td>loved ones checked hospital ama medical advice...</td>\n",
              "      <td>['loved', 'ones', 'checked', 'hospital', 'ama'...</td>\n",
              "      <td>[('loved', 'VBN'), ('ones', 'NNS'), ('checked'...</td>\n",
              "    </tr>\n",
              "    <tr>\n",
              "      <th>4</th>\n",
              "      <td>NaN</td>\n",
              "      <td>4</td>\n",
              "      <td>bry6ro</td>\n",
              "      <td>https://www.reddit.com/r/CancerCaregivers/comm...</td>\n",
              "      <td>10</td>\n",
              "      <td>8 minutes into his appointment, another scene ...</td>\n",
              "      <td>At this point it’s just funny to me. I’m not t...</td>\n",
              "      <td>2019-05-23 11:16:30</td>\n",
              "      <td>3.0</td>\n",
              "      <td>NaN</td>\n",
              "      <td>[('point', 'n'), ('it', 'n'), ('is', 'v'), ('f...</td>\n",
              "      <td>['point', 'it', 'be', 'funny', 'I', 'be', 'one...</td>\n",
              "      <td>['point', 'it is', 'funny', 'I am', 'one', 'th...</td>\n",
              "      <td>point it is funny I am one throwing temper tan...</td>\n",
              "      <td>['point', 'it', 'is', 'funny', 'I', 'am', 'one...</td>\n",
              "      <td>[('point', 'NN'), ('it', 'PRP'), ('is', 'VBZ')...</td>\n",
              "    </tr>\n",
              "  </tbody>\n",
              "</table>\n",
              "</div>"
            ],
            "text/plain": [
              "   Unnamed: 0  ...                                           pos_tags\n",
              "0         NaN  ...  [('sorry', 'JJ'), ('title', 'NN'), ('wish', 'J...\n",
              "1         NaN  ...  [('dad', 'NN'), ('diagnosed', 'VBD'), ('stage'...\n",
              "2         NaN  ...  [('finished', 'VBN'), ('last', 'JJ'), ('abvd',...\n",
              "3         NaN  ...  [('loved', 'VBN'), ('ones', 'NNS'), ('checked'...\n",
              "4         NaN  ...  [('point', 'NN'), ('it', 'PRP'), ('is', 'VBZ')...\n",
              "\n",
              "[5 rows x 16 columns]"
            ]
          },
          "metadata": {
            "tags": []
          },
          "execution_count": 4
        }
      ]
    },
    {
      "cell_type": "code",
      "metadata": {
        "id": "WjUSn_ieEkzY"
      },
      "source": [
        "df = df_old[['title', 'body', 'label']].copy()"
      ],
      "execution_count": null,
      "outputs": []
    },
    {
      "cell_type": "code",
      "metadata": {
        "id": "oPAfZH_FgErj",
        "colab": {
          "base_uri": "https://localhost:8080/"
        },
        "outputId": "12eceef9-a005-4468-935c-652b35fa1735"
      },
      "source": [
        "#(#Rows, #Columns)\n",
        "df.shape"
      ],
      "execution_count": null,
      "outputs": [
        {
          "output_type": "execute_result",
          "data": {
            "text/plain": [
              "(2309, 3)"
            ]
          },
          "metadata": {
            "tags": []
          },
          "execution_count": 6
        }
      ]
    },
    {
      "cell_type": "code",
      "metadata": {
        "id": "IYpqRSvt9iW_",
        "colab": {
          "base_uri": "https://localhost:8080/",
          "height": 204
        },
        "outputId": "37256df0-8c6c-4bbf-a256-f3e746d49f06"
      },
      "source": [
        "df=df.dropna()\n",
        "df.head()"
      ],
      "execution_count": null,
      "outputs": [
        {
          "output_type": "execute_result",
          "data": {
            "text/html": [
              "<div>\n",
              "<style scoped>\n",
              "    .dataframe tbody tr th:only-of-type {\n",
              "        vertical-align: middle;\n",
              "    }\n",
              "\n",
              "    .dataframe tbody tr th {\n",
              "        vertical-align: top;\n",
              "    }\n",
              "\n",
              "    .dataframe thead th {\n",
              "        text-align: right;\n",
              "    }\n",
              "</style>\n",
              "<table border=\"1\" class=\"dataframe\">\n",
              "  <thead>\n",
              "    <tr style=\"text-align: right;\">\n",
              "      <th></th>\n",
              "      <th>title</th>\n",
              "      <th>body</th>\n",
              "      <th>label</th>\n",
              "    </tr>\n",
              "  </thead>\n",
              "  <tbody>\n",
              "    <tr>\n",
              "      <th>0</th>\n",
              "      <td>Fuck that Bell!</td>\n",
              "      <td>Sorry for the title, but I wish the bell ringi...</td>\n",
              "      <td>6.0</td>\n",
              "    </tr>\n",
              "    <tr>\n",
              "      <th>1</th>\n",
              "      <td>Father suffering from end stage aggression. Wo...</td>\n",
              "      <td>My dad was diagnosed with stage 4 bone cancer ...</td>\n",
              "      <td>7.0</td>\n",
              "    </tr>\n",
              "    <tr>\n",
              "      <th>2</th>\n",
              "      <td>last chemo was today :)</td>\n",
              "      <td>just finished my last of 12 abvd infusions. I ...</td>\n",
              "      <td>2.0</td>\n",
              "    </tr>\n",
              "    <tr>\n",
              "      <th>3</th>\n",
              "      <td>ER phobia?</td>\n",
              "      <td>Have any of your loved ones checked out of the...</td>\n",
              "      <td>7.0</td>\n",
              "    </tr>\n",
              "    <tr>\n",
              "      <th>4</th>\n",
              "      <td>8 minutes into his appointment, another scene ...</td>\n",
              "      <td>At this point it’s just funny to me. I’m not t...</td>\n",
              "      <td>3.0</td>\n",
              "    </tr>\n",
              "  </tbody>\n",
              "</table>\n",
              "</div>"
            ],
            "text/plain": [
              "                                               title  ... label\n",
              "0                                    Fuck that Bell!  ...   6.0\n",
              "1  Father suffering from end stage aggression. Wo...  ...   7.0\n",
              "2                            last chemo was today :)  ...   2.0\n",
              "3                                         ER phobia?  ...   7.0\n",
              "4  8 minutes into his appointment, another scene ...  ...   3.0\n",
              "\n",
              "[5 rows x 3 columns]"
            ]
          },
          "metadata": {
            "tags": []
          },
          "execution_count": 7
        }
      ]
    },
    {
      "cell_type": "code",
      "metadata": {
        "id": "JAwl_aN9gO1b",
        "colab": {
          "base_uri": "https://localhost:8080/"
        },
        "outputId": "26319f5b-78a8-4253-de83-4bed015eee25"
      },
      "source": [
        "#Rows that have values we could use\n",
        "df.info() "
      ],
      "execution_count": null,
      "outputs": [
        {
          "output_type": "stream",
          "text": [
            "<class 'pandas.core.frame.DataFrame'>\n",
            "Int64Index: 704 entries, 0 to 924\n",
            "Data columns (total 3 columns):\n",
            " #   Column  Non-Null Count  Dtype  \n",
            "---  ------  --------------  -----  \n",
            " 0   title   704 non-null    object \n",
            " 1   body    704 non-null    object \n",
            " 2   label   704 non-null    float64\n",
            "dtypes: float64(1), object(2)\n",
            "memory usage: 22.0+ KB\n"
          ],
          "name": "stdout"
        }
      ]
    },
    {
      "cell_type": "code",
      "metadata": {
        "id": "GFkPYXK8v7x2"
      },
      "source": [
        "#Detect Language of each \n",
        "# pretrained_model = \"lid.176.bin\" \n",
        "# model = fasttext.load_model(pretrained_model)\n",
        "# langs = []\n",
        "# for sent in rws['rating_description_str']:\n",
        "#     lang = model.predict(sent)[0]\n",
        "#     langs.append(str(lang)[11:13])\n",
        "# rws['langs'] = langs"
      ],
      "execution_count": null,
      "outputs": []
    },
    {
      "cell_type": "code",
      "metadata": {
        "id": "0T9Us0LA3hu5"
      },
      "source": [
        "#Make everything lowercase\n",
        "df['clean_body'] =  df[\"title\"].str.lower()+\" \"+ df[\"body\"].str.lower() "
      ],
      "execution_count": null,
      "outputs": []
    },
    {
      "cell_type": "code",
      "metadata": {
        "id": "9tE6z1ts64ST"
      },
      "source": [
        "def remove_punctuations_numbers(text):\n",
        "    punc = string.punctuation \n",
        "    for punctuation in punc:\n",
        "        text = text.replace(punctuation, '')\n",
        "    return text"
      ],
      "execution_count": null,
      "outputs": []
    },
    {
      "cell_type": "code",
      "metadata": {
        "id": "Ies7mWOgdU8t"
      },
      "source": [
        "def remove_stuff(text,remove_arr, replace_str):\n",
        "    for rem in remove_arr:\n",
        "        text = text.replace(rem, replace_str)\n",
        "    return text"
      ],
      "execution_count": null,
      "outputs": []
    },
    {
      "cell_type": "code",
      "metadata": {
        "id": "VVuZQYH6dU2g"
      },
      "source": [
        "import re \n",
        "def remove_digits(text):\n",
        "  text=re.sub('[0-9]+', \"number\", text)\n",
        "  return text"
      ],
      "execution_count": null,
      "outputs": []
    },
    {
      "cell_type": "code",
      "metadata": {
        "id": "GxCz-DaWZKuT"
      },
      "source": [
        "#Replace all days of week by string \"dayofweek\"\n",
        "weekstring =['monday', 'tuesday', 'wednesday', 'thursday', 'friday','saturday','sunday']\n",
        "#Replace all month names by string \"month\"\n",
        "months = ['january','february', 'march','april','may','june','july','august', 'september', 'october','november','december']\n",
        "#Replace all the numbers by string \"number\"\n",
        "nums=['one','two','three','four','five','six','seven','eight','nine','ten']\n",
        "#Replace all family relations with string \"famrel\"\n",
        "famrel=['dad','mum','daughter','son','aunt','uncle','husband','wife', 'brother','sister', 'father','mother']\n",
        "#Replace all friendship (non-family) relations with string \"friend\"\n",
        "friendrel=['boyfriend','girlfriend','colleague']"
      ],
      "execution_count": null,
      "outputs": []
    },
    {
      "cell_type": "code",
      "metadata": {
        "id": "Tos96n_MmVtO",
        "colab": {
          "base_uri": "https://localhost:8080/"
        },
        "outputId": "be0c5a1d-dea7-4a12-da9f-678382cfb59b"
      },
      "source": [
        "print(string.punctuation)"
      ],
      "execution_count": null,
      "outputs": [
        {
          "output_type": "stream",
          "text": [
            "!\"#$%&'()*+,-./:;<=>?@[\\]^_`{|}~\n"
          ],
          "name": "stdout"
        }
      ]
    },
    {
      "cell_type": "code",
      "metadata": {
        "id": "NZQ7ejop3CiI",
        "colab": {
          "base_uri": "https://localhost:8080/",
          "height": 255
        },
        "outputId": "5b101186-bf30-40b6-a609-18ba18d9d3a7"
      },
      "source": [
        "#remove punctuation \n",
        "df[\"clean_body\"] = df[\"clean_body\"].astype(str)\n",
        "df['clean_body'] = df['clean_body'].apply(remove_punctuations_numbers)\n",
        "df['clean_body'] = df['clean_body'].apply(remove_stuff, args=[famrel,'famrel'])\n",
        "df['clean_body'] = df['clean_body'].apply(remove_stuff, args=[nums,'number'])\n",
        "df['clean_body'] = df['clean_body'].apply(remove_stuff, args=[months,'month'])\n",
        "df['clean_body'] = df['clean_body'].apply(remove_stuff, args=[friendrel,'friend'])\n",
        "df['clean_body'] = df['clean_body'].apply(remove_stuff, args=[weekstring,'dayofweek'])\n",
        "df['clean_body'] = df['clean_body'].apply(remove_digits)\n",
        "df.head()"
      ],
      "execution_count": null,
      "outputs": [
        {
          "output_type": "execute_result",
          "data": {
            "text/html": [
              "<div>\n",
              "<style scoped>\n",
              "    .dataframe tbody tr th:only-of-type {\n",
              "        vertical-align: middle;\n",
              "    }\n",
              "\n",
              "    .dataframe tbody tr th {\n",
              "        vertical-align: top;\n",
              "    }\n",
              "\n",
              "    .dataframe thead th {\n",
              "        text-align: right;\n",
              "    }\n",
              "</style>\n",
              "<table border=\"1\" class=\"dataframe\">\n",
              "  <thead>\n",
              "    <tr style=\"text-align: right;\">\n",
              "      <th></th>\n",
              "      <th>title</th>\n",
              "      <th>body</th>\n",
              "      <th>label</th>\n",
              "      <th>clean_body</th>\n",
              "    </tr>\n",
              "  </thead>\n",
              "  <tbody>\n",
              "    <tr>\n",
              "      <th>0</th>\n",
              "      <td>Fuck that Bell!</td>\n",
              "      <td>Sorry for the title, but I wish the bell ringi...</td>\n",
              "      <td>6.0</td>\n",
              "      <td>fuck that bell sorry for the title but i wish ...</td>\n",
              "    </tr>\n",
              "    <tr>\n",
              "      <th>1</th>\n",
              "      <td>Father suffering from end stage aggression. Wo...</td>\n",
              "      <td>My dad was diagnosed with stage 4 bone cancer ...</td>\n",
              "      <td>7.0</td>\n",
              "      <td>famrel suffering from end stage aggression won...</td>\n",
              "    </tr>\n",
              "    <tr>\n",
              "      <th>2</th>\n",
              "      <td>last chemo was today :)</td>\n",
              "      <td>just finished my last of 12 abvd infusions. I ...</td>\n",
              "      <td>2.0</td>\n",
              "      <td>last chemo was today  just finished my last of...</td>\n",
              "    </tr>\n",
              "    <tr>\n",
              "      <th>3</th>\n",
              "      <td>ER phobia?</td>\n",
              "      <td>Have any of your loved ones checked out of the...</td>\n",
              "      <td>7.0</td>\n",
              "      <td>er phobia have any of your loved numbers check...</td>\n",
              "    </tr>\n",
              "    <tr>\n",
              "      <th>4</th>\n",
              "      <td>8 minutes into his appointment, another scene ...</td>\n",
              "      <td>At this point it’s just funny to me. I’m not t...</td>\n",
              "      <td>3.0</td>\n",
              "      <td>number minutes into his appointment another sc...</td>\n",
              "    </tr>\n",
              "  </tbody>\n",
              "</table>\n",
              "</div>"
            ],
            "text/plain": [
              "                                               title  ...                                         clean_body\n",
              "0                                    Fuck that Bell!  ...  fuck that bell sorry for the title but i wish ...\n",
              "1  Father suffering from end stage aggression. Wo...  ...  famrel suffering from end stage aggression won...\n",
              "2                            last chemo was today :)  ...  last chemo was today  just finished my last of...\n",
              "3                                         ER phobia?  ...  er phobia have any of your loved numbers check...\n",
              "4  8 minutes into his appointment, another scene ...  ...  number minutes into his appointment another sc...\n",
              "\n",
              "[5 rows x 4 columns]"
            ]
          },
          "metadata": {
            "tags": []
          },
          "execution_count": 16
        }
      ]
    },
    {
      "cell_type": "code",
      "metadata": {
        "id": "16sy5eG18aXG",
        "colab": {
          "base_uri": "https://localhost:8080/",
          "height": 255
        },
        "outputId": "6067442f-00ce-44da-af3a-a78542182380"
      },
      "source": [
        "#Remove Word contractions\n",
        "df['clean_body'] = df['clean_body'].apply(lambda x: [contractions.fix(word) for word in x.split()])\n",
        "df.head()"
      ],
      "execution_count": null,
      "outputs": [
        {
          "output_type": "execute_result",
          "data": {
            "text/html": [
              "<div>\n",
              "<style scoped>\n",
              "    .dataframe tbody tr th:only-of-type {\n",
              "        vertical-align: middle;\n",
              "    }\n",
              "\n",
              "    .dataframe tbody tr th {\n",
              "        vertical-align: top;\n",
              "    }\n",
              "\n",
              "    .dataframe thead th {\n",
              "        text-align: right;\n",
              "    }\n",
              "</style>\n",
              "<table border=\"1\" class=\"dataframe\">\n",
              "  <thead>\n",
              "    <tr style=\"text-align: right;\">\n",
              "      <th></th>\n",
              "      <th>title</th>\n",
              "      <th>body</th>\n",
              "      <th>label</th>\n",
              "      <th>clean_body</th>\n",
              "    </tr>\n",
              "  </thead>\n",
              "  <tbody>\n",
              "    <tr>\n",
              "      <th>0</th>\n",
              "      <td>Fuck that Bell!</td>\n",
              "      <td>Sorry for the title, but I wish the bell ringi...</td>\n",
              "      <td>6.0</td>\n",
              "      <td>[fuck, that, bell, sorry, for, the, title, but...</td>\n",
              "    </tr>\n",
              "    <tr>\n",
              "      <th>1</th>\n",
              "      <td>Father suffering from end stage aggression. Wo...</td>\n",
              "      <td>My dad was diagnosed with stage 4 bone cancer ...</td>\n",
              "      <td>7.0</td>\n",
              "      <td>[famrel, suffering, from, end, stage, aggressi...</td>\n",
              "    </tr>\n",
              "    <tr>\n",
              "      <th>2</th>\n",
              "      <td>last chemo was today :)</td>\n",
              "      <td>just finished my last of 12 abvd infusions. I ...</td>\n",
              "      <td>2.0</td>\n",
              "      <td>[last, chemo, was, today, just, finished, my, ...</td>\n",
              "    </tr>\n",
              "    <tr>\n",
              "      <th>3</th>\n",
              "      <td>ER phobia?</td>\n",
              "      <td>Have any of your loved ones checked out of the...</td>\n",
              "      <td>7.0</td>\n",
              "      <td>[er, phobia, have, any, of, your, loved, numbe...</td>\n",
              "    </tr>\n",
              "    <tr>\n",
              "      <th>4</th>\n",
              "      <td>8 minutes into his appointment, another scene ...</td>\n",
              "      <td>At this point it’s just funny to me. I’m not t...</td>\n",
              "      <td>3.0</td>\n",
              "      <td>[number, minutes, into, his, appointment, anot...</td>\n",
              "    </tr>\n",
              "  </tbody>\n",
              "</table>\n",
              "</div>"
            ],
            "text/plain": [
              "                                               title  ...                                         clean_body\n",
              "0                                    Fuck that Bell!  ...  [fuck, that, bell, sorry, for, the, title, but...\n",
              "1  Father suffering from end stage aggression. Wo...  ...  [famrel, suffering, from, end, stage, aggressi...\n",
              "2                            last chemo was today :)  ...  [last, chemo, was, today, just, finished, my, ...\n",
              "3                                         ER phobia?  ...  [er, phobia, have, any, of, your, loved, numbe...\n",
              "4  8 minutes into his appointment, another scene ...  ...  [number, minutes, into, his, appointment, anot...\n",
              "\n",
              "[5 rows x 4 columns]"
            ]
          },
          "metadata": {
            "tags": []
          },
          "execution_count": 17
        }
      ]
    },
    {
      "cell_type": "code",
      "metadata": {
        "id": "t-KYMUEH_jw_",
        "colab": {
          "base_uri": "https://localhost:8080/",
          "height": 272
        },
        "outputId": "0553eda7-24cd-490c-abc0-d4c36b499023"
      },
      "source": [
        "#Remove Stop Words\n",
        "#stop_words = set(stopwords.words('english'))\n",
        "stop_words1=[]\n",
        "with open('stopwords.txt','r') as f:\n",
        "  for line in f:\n",
        "    for word in line.split():\n",
        "      stop_words1.append(word.lower()) \n",
        "      #print(word)\n",
        "\n",
        "#print(stopwords.words('english'))\n",
        "\n",
        "print(len(stop_words1))\n",
        "df['clean_body'] = df['clean_body'].apply(lambda x: [word for word in x if word not in stop_words1])\n",
        "df.head()"
      ],
      "execution_count": null,
      "outputs": [
        {
          "output_type": "stream",
          "text": [
            "94\n"
          ],
          "name": "stdout"
        },
        {
          "output_type": "execute_result",
          "data": {
            "text/html": [
              "<div>\n",
              "<style scoped>\n",
              "    .dataframe tbody tr th:only-of-type {\n",
              "        vertical-align: middle;\n",
              "    }\n",
              "\n",
              "    .dataframe tbody tr th {\n",
              "        vertical-align: top;\n",
              "    }\n",
              "\n",
              "    .dataframe thead th {\n",
              "        text-align: right;\n",
              "    }\n",
              "</style>\n",
              "<table border=\"1\" class=\"dataframe\">\n",
              "  <thead>\n",
              "    <tr style=\"text-align: right;\">\n",
              "      <th></th>\n",
              "      <th>title</th>\n",
              "      <th>body</th>\n",
              "      <th>label</th>\n",
              "      <th>clean_body</th>\n",
              "    </tr>\n",
              "  </thead>\n",
              "  <tbody>\n",
              "    <tr>\n",
              "      <th>0</th>\n",
              "      <td>Fuck that Bell!</td>\n",
              "      <td>Sorry for the title, but I wish the bell ringi...</td>\n",
              "      <td>6.0</td>\n",
              "      <td>[fuck, bell, sorry, title, wish, bell, ringing...</td>\n",
              "    </tr>\n",
              "    <tr>\n",
              "      <th>1</th>\n",
              "      <td>Father suffering from end stage aggression. Wo...</td>\n",
              "      <td>My dad was diagnosed with stage 4 bone cancer ...</td>\n",
              "      <td>7.0</td>\n",
              "      <td>[famrel, suffering, end, stage, aggression, wi...</td>\n",
              "    </tr>\n",
              "    <tr>\n",
              "      <th>2</th>\n",
              "      <td>last chemo was today :)</td>\n",
              "      <td>just finished my last of 12 abvd infusions. I ...</td>\n",
              "      <td>2.0</td>\n",
              "      <td>[last, chemo, today, just, finished, last, num...</td>\n",
              "    </tr>\n",
              "    <tr>\n",
              "      <th>3</th>\n",
              "      <td>ER phobia?</td>\n",
              "      <td>Have any of your loved ones checked out of the...</td>\n",
              "      <td>7.0</td>\n",
              "      <td>[er, phobia, any, loved, numbers, checked, out...</td>\n",
              "    </tr>\n",
              "    <tr>\n",
              "      <th>4</th>\n",
              "      <td>8 minutes into his appointment, another scene ...</td>\n",
              "      <td>At this point it’s just funny to me. I’m not t...</td>\n",
              "      <td>3.0</td>\n",
              "      <td>[number, minutes, appointment, another, scene,...</td>\n",
              "    </tr>\n",
              "  </tbody>\n",
              "</table>\n",
              "</div>"
            ],
            "text/plain": [
              "                                               title  ...                                         clean_body\n",
              "0                                    Fuck that Bell!  ...  [fuck, bell, sorry, title, wish, bell, ringing...\n",
              "1  Father suffering from end stage aggression. Wo...  ...  [famrel, suffering, end, stage, aggression, wi...\n",
              "2                            last chemo was today :)  ...  [last, chemo, today, just, finished, last, num...\n",
              "3                                         ER phobia?  ...  [er, phobia, any, loved, numbers, checked, out...\n",
              "4  8 minutes into his appointment, another scene ...  ...  [number, minutes, appointment, another, scene,...\n",
              "\n",
              "[5 rows x 4 columns]"
            ]
          },
          "metadata": {
            "tags": []
          },
          "execution_count": 19
        }
      ]
    },
    {
      "cell_type": "code",
      "metadata": {
        "colab": {
          "base_uri": "https://localhost:8080/",
          "height": 521
        },
        "id": "jk6qfRAqGtYk",
        "outputId": "8412609c-aad6-461c-9c0f-4c97e5192923"
      },
      "source": [
        "df.head(100)"
      ],
      "execution_count": null,
      "outputs": [
        {
          "output_type": "execute_result",
          "data": {
            "text/html": [
              "<div>\n",
              "<style scoped>\n",
              "    .dataframe tbody tr th:only-of-type {\n",
              "        vertical-align: middle;\n",
              "    }\n",
              "\n",
              "    .dataframe tbody tr th {\n",
              "        vertical-align: top;\n",
              "    }\n",
              "\n",
              "    .dataframe thead th {\n",
              "        text-align: right;\n",
              "    }\n",
              "</style>\n",
              "<table border=\"1\" class=\"dataframe\">\n",
              "  <thead>\n",
              "    <tr style=\"text-align: right;\">\n",
              "      <th></th>\n",
              "      <th>title</th>\n",
              "      <th>body</th>\n",
              "      <th>label</th>\n",
              "      <th>clean_body</th>\n",
              "    </tr>\n",
              "  </thead>\n",
              "  <tbody>\n",
              "    <tr>\n",
              "      <th>0</th>\n",
              "      <td>Fuck that Bell!</td>\n",
              "      <td>Sorry for the title, but I wish the bell ringi...</td>\n",
              "      <td>6.0</td>\n",
              "      <td>[fuck, bell, sorry, title, wish, bell, ringing...</td>\n",
              "    </tr>\n",
              "    <tr>\n",
              "      <th>1</th>\n",
              "      <td>Father suffering from end stage aggression. Wo...</td>\n",
              "      <td>My dad was diagnosed with stage 4 bone cancer ...</td>\n",
              "      <td>7.0</td>\n",
              "      <td>[famrel, suffering, end, stage, aggression, wi...</td>\n",
              "    </tr>\n",
              "    <tr>\n",
              "      <th>2</th>\n",
              "      <td>last chemo was today :)</td>\n",
              "      <td>just finished my last of 12 abvd infusions. I ...</td>\n",
              "      <td>2.0</td>\n",
              "      <td>[last, chemo, today, just, finished, last, num...</td>\n",
              "    </tr>\n",
              "    <tr>\n",
              "      <th>3</th>\n",
              "      <td>ER phobia?</td>\n",
              "      <td>Have any of your loved ones checked out of the...</td>\n",
              "      <td>7.0</td>\n",
              "      <td>[er, phobia, any, loved, numbers, checked, out...</td>\n",
              "    </tr>\n",
              "    <tr>\n",
              "      <th>4</th>\n",
              "      <td>8 minutes into his appointment, another scene ...</td>\n",
              "      <td>At this point it’s just funny to me. I’m not t...</td>\n",
              "      <td>3.0</td>\n",
              "      <td>[number, minutes, appointment, another, scene,...</td>\n",
              "    </tr>\n",
              "    <tr>\n",
              "      <th>...</th>\n",
              "      <td>...</td>\n",
              "      <td>...</td>\n",
              "      <td>...</td>\n",
              "      <td>...</td>\n",
              "    </tr>\n",
              "    <tr>\n",
              "      <th>96</th>\n",
              "      <td>Should I quit my job?</td>\n",
              "      <td>Hi guys. \\n\\nIn early July, my mother was diag...</td>\n",
              "      <td>7.0</td>\n",
              "      <td>[should, quit, job, guys, early, month, famrel...</td>\n",
              "    </tr>\n",
              "    <tr>\n",
              "      <th>97</th>\n",
              "      <td>Losing hair...and time</td>\n",
              "      <td>My mother is losing her hair and has been give...</td>\n",
              "      <td>6.0</td>\n",
              "      <td>[losing, hairand, time, famrel, losing, hair, ...</td>\n",
              "    </tr>\n",
              "    <tr>\n",
              "      <th>98</th>\n",
              "      <td>My mom's first appointment</td>\n",
              "      <td>Last week my mom went to the doctor for a pers...</td>\n",
              "      <td>0.0</td>\n",
              "      <td>[moms, first, appointment, last, week, mom, we...</td>\n",
              "    </tr>\n",
              "    <tr>\n",
              "      <th>99</th>\n",
              "      <td>How do you cope with a loved one that is terminal</td>\n",
              "      <td>Hi all,\\n\\nFirst post so please excuse me if I...</td>\n",
              "      <td>7.0</td>\n",
              "      <td>[how, do, cope, loved, number, terminal, all, ...</td>\n",
              "    </tr>\n",
              "    <tr>\n",
              "      <th>100</th>\n",
              "      <td>Father died, now I am afraid to cry</td>\n",
              "      <td>Sorry, my English is not very good. \\n\\n\\nHe d...</td>\n",
              "      <td>8.0</td>\n",
              "      <td>[famrel, died, now, afraid, cry, sorry, englis...</td>\n",
              "    </tr>\n",
              "  </tbody>\n",
              "</table>\n",
              "<p>100 rows × 4 columns</p>\n",
              "</div>"
            ],
            "text/plain": [
              "                                                 title  ...                                         clean_body\n",
              "0                                      Fuck that Bell!  ...  [fuck, bell, sorry, title, wish, bell, ringing...\n",
              "1    Father suffering from end stage aggression. Wo...  ...  [famrel, suffering, end, stage, aggression, wi...\n",
              "2                              last chemo was today :)  ...  [last, chemo, today, just, finished, last, num...\n",
              "3                                           ER phobia?  ...  [er, phobia, any, loved, numbers, checked, out...\n",
              "4    8 minutes into his appointment, another scene ...  ...  [number, minutes, appointment, another, scene,...\n",
              "..                                                 ...  ...                                                ...\n",
              "96                               Should I quit my job?  ...  [should, quit, job, guys, early, month, famrel...\n",
              "97                              Losing hair...and time  ...  [losing, hairand, time, famrel, losing, hair, ...\n",
              "98                          My mom's first appointment  ...  [moms, first, appointment, last, week, mom, we...\n",
              "99   How do you cope with a loved one that is terminal  ...  [how, do, cope, loved, number, terminal, all, ...\n",
              "100                Father died, now I am afraid to cry  ...  [famrel, died, now, afraid, cry, sorry, englis...\n",
              "\n",
              "[100 rows x 4 columns]"
            ]
          },
          "metadata": {
            "tags": []
          },
          "execution_count": 20
        }
      ]
    },
    {
      "cell_type": "code",
      "metadata": {
        "id": "lqLCSAV0-w1Z",
        "colab": {
          "base_uri": "https://localhost:8080/",
          "height": 289
        },
        "outputId": "1076602a-e94d-4ca9-bf9f-e3fee476e156"
      },
      "source": [
        "#Clean body Str:\n",
        "df['clean_body_str'] = [' '.join(map(str, l)) for l in df['clean_body']]\n",
        "df.head()"
      ],
      "execution_count": null,
      "outputs": [
        {
          "output_type": "execute_result",
          "data": {
            "text/html": [
              "<div>\n",
              "<style scoped>\n",
              "    .dataframe tbody tr th:only-of-type {\n",
              "        vertical-align: middle;\n",
              "    }\n",
              "\n",
              "    .dataframe tbody tr th {\n",
              "        vertical-align: top;\n",
              "    }\n",
              "\n",
              "    .dataframe thead th {\n",
              "        text-align: right;\n",
              "    }\n",
              "</style>\n",
              "<table border=\"1\" class=\"dataframe\">\n",
              "  <thead>\n",
              "    <tr style=\"text-align: right;\">\n",
              "      <th></th>\n",
              "      <th>title</th>\n",
              "      <th>body</th>\n",
              "      <th>label</th>\n",
              "      <th>clean_body</th>\n",
              "      <th>clean_body_str</th>\n",
              "    </tr>\n",
              "  </thead>\n",
              "  <tbody>\n",
              "    <tr>\n",
              "      <th>0</th>\n",
              "      <td>Fuck that Bell!</td>\n",
              "      <td>Sorry for the title, but I wish the bell ringi...</td>\n",
              "      <td>6.0</td>\n",
              "      <td>[fuck, bell, sorry, title, wish, bell, ringing...</td>\n",
              "      <td>fuck bell sorry title wish bell ringing party ...</td>\n",
              "    </tr>\n",
              "    <tr>\n",
              "      <th>1</th>\n",
              "      <td>Father suffering from end stage aggression. Wo...</td>\n",
              "      <td>My dad was diagnosed with stage 4 bone cancer ...</td>\n",
              "      <td>7.0</td>\n",
              "      <td>[famrel, suffering, end, stage, aggression, wi...</td>\n",
              "      <td>famrel suffering end stage aggression will not...</td>\n",
              "    </tr>\n",
              "    <tr>\n",
              "      <th>2</th>\n",
              "      <td>last chemo was today :)</td>\n",
              "      <td>just finished my last of 12 abvd infusions. I ...</td>\n",
              "      <td>2.0</td>\n",
              "      <td>[last, chemo, today, just, finished, last, num...</td>\n",
              "      <td>last chemo today just finished last number abv...</td>\n",
              "    </tr>\n",
              "    <tr>\n",
              "      <th>3</th>\n",
              "      <td>ER phobia?</td>\n",
              "      <td>Have any of your loved ones checked out of the...</td>\n",
              "      <td>7.0</td>\n",
              "      <td>[er, phobia, any, loved, numbers, checked, out...</td>\n",
              "      <td>er phobia any loved numbers checked out hospit...</td>\n",
              "    </tr>\n",
              "    <tr>\n",
              "      <th>4</th>\n",
              "      <td>8 minutes into his appointment, another scene ...</td>\n",
              "      <td>At this point it’s just funny to me. I’m not t...</td>\n",
              "      <td>3.0</td>\n",
              "      <td>[number, minutes, appointment, another, scene,...</td>\n",
              "      <td>number minutes appointment another scene made ...</td>\n",
              "    </tr>\n",
              "  </tbody>\n",
              "</table>\n",
              "</div>"
            ],
            "text/plain": [
              "                                               title  ...                                     clean_body_str\n",
              "0                                    Fuck that Bell!  ...  fuck bell sorry title wish bell ringing party ...\n",
              "1  Father suffering from end stage aggression. Wo...  ...  famrel suffering end stage aggression will not...\n",
              "2                            last chemo was today :)  ...  last chemo today just finished last number abv...\n",
              "3                                         ER phobia?  ...  er phobia any loved numbers checked out hospit...\n",
              "4  8 minutes into his appointment, another scene ...  ...  number minutes appointment another scene made ...\n",
              "\n",
              "[5 rows x 5 columns]"
            ]
          },
          "metadata": {
            "tags": []
          },
          "execution_count": 21
        }
      ]
    },
    {
      "cell_type": "code",
      "metadata": {
        "id": "qoGU3NFex6j_"
      },
      "source": [
        "df.to_csv('EAFC_Raw.csv')"
      ],
      "execution_count": null,
      "outputs": []
    },
    {
      "cell_type": "code",
      "metadata": {
        "id": "2yTGbPS2_MyM",
        "colab": {
          "base_uri": "https://localhost:8080/",
          "height": 323
        },
        "outputId": "57828681-056a-405b-9bb1-71d25714c87a"
      },
      "source": [
        "#Tokenize\n",
        "df['tokenized'] = df['clean_body_str'].apply(word_tokenize)\n",
        "df.head()"
      ],
      "execution_count": null,
      "outputs": [
        {
          "output_type": "execute_result",
          "data": {
            "text/html": [
              "<div>\n",
              "<style scoped>\n",
              "    .dataframe tbody tr th:only-of-type {\n",
              "        vertical-align: middle;\n",
              "    }\n",
              "\n",
              "    .dataframe tbody tr th {\n",
              "        vertical-align: top;\n",
              "    }\n",
              "\n",
              "    .dataframe thead th {\n",
              "        text-align: right;\n",
              "    }\n",
              "</style>\n",
              "<table border=\"1\" class=\"dataframe\">\n",
              "  <thead>\n",
              "    <tr style=\"text-align: right;\">\n",
              "      <th></th>\n",
              "      <th>title</th>\n",
              "      <th>body</th>\n",
              "      <th>label</th>\n",
              "      <th>clean_body</th>\n",
              "      <th>clean_body_str</th>\n",
              "      <th>tokenized</th>\n",
              "    </tr>\n",
              "  </thead>\n",
              "  <tbody>\n",
              "    <tr>\n",
              "      <th>0</th>\n",
              "      <td>Fuck that Bell!</td>\n",
              "      <td>Sorry for the title, but I wish the bell ringi...</td>\n",
              "      <td>6.0</td>\n",
              "      <td>[fuck, bell, sorry, title, wish, bell, ringing...</td>\n",
              "      <td>fuck bell sorry title wish bell ringing party ...</td>\n",
              "      <td>[fuck, bell, sorry, title, wish, bell, ringing...</td>\n",
              "    </tr>\n",
              "    <tr>\n",
              "      <th>1</th>\n",
              "      <td>Father suffering from end stage aggression. Wo...</td>\n",
              "      <td>My dad was diagnosed with stage 4 bone cancer ...</td>\n",
              "      <td>7.0</td>\n",
              "      <td>[suffering, end, stage, aggression, will not, ...</td>\n",
              "      <td>suffering end stage aggression will not take p...</td>\n",
              "      <td>[suffering, end, stage, aggression, will, not,...</td>\n",
              "    </tr>\n",
              "    <tr>\n",
              "      <th>2</th>\n",
              "      <td>last chemo was today :)</td>\n",
              "      <td>just finished my last of 12 abvd infusions. I ...</td>\n",
              "      <td>9.0</td>\n",
              "      <td>[last, chemo, today, just, finished, last, abv...</td>\n",
              "      <td>last chemo today just finished last abvd infus...</td>\n",
              "      <td>[last, chemo, today, just, finished, last, abv...</td>\n",
              "    </tr>\n",
              "    <tr>\n",
              "      <th>3</th>\n",
              "      <td>ER phobia?</td>\n",
              "      <td>Have any of your loved ones checked out of the...</td>\n",
              "      <td>7.0</td>\n",
              "      <td>[er, phobia, any, ones, checked, hospital, ama...</td>\n",
              "      <td>er phobia any ones checked hospital ama agains...</td>\n",
              "      <td>[er, phobia, any, ones, checked, hospital, ama...</td>\n",
              "    </tr>\n",
              "    <tr>\n",
              "      <th>4</th>\n",
              "      <td>8 minutes into his appointment, another scene ...</td>\n",
              "      <td>At this point it’s just funny to me. I’m not t...</td>\n",
              "      <td>3.0</td>\n",
              "      <td>[minutes, appointment, scene, made, plus, hosp...</td>\n",
              "      <td>minutes appointment scene made plus hospital h...</td>\n",
              "      <td>[minutes, appointment, scene, made, plus, hosp...</td>\n",
              "    </tr>\n",
              "  </tbody>\n",
              "</table>\n",
              "</div>"
            ],
            "text/plain": [
              "                                               title  ...                                          tokenized\n",
              "0                                    Fuck that Bell!  ...  [fuck, bell, sorry, title, wish, bell, ringing...\n",
              "1  Father suffering from end stage aggression. Wo...  ...  [suffering, end, stage, aggression, will, not,...\n",
              "2                            last chemo was today :)  ...  [last, chemo, today, just, finished, last, abv...\n",
              "3                                         ER phobia?  ...  [er, phobia, any, ones, checked, hospital, ama...\n",
              "4  8 minutes into his appointment, another scene ...  ...  [minutes, appointment, scene, made, plus, hosp...\n",
              "\n",
              "[5 rows x 6 columns]"
            ]
          },
          "metadata": {
            "tags": []
          },
          "execution_count": 18
        }
      ]
    },
    {
      "cell_type": "code",
      "metadata": {
        "id": "d6o7g-pjX_zU",
        "colab": {
          "base_uri": "https://localhost:8080/",
          "height": 374
        },
        "outputId": "bf6f11ed-6422-44bd-8d09-2b8c8946e021"
      },
      "source": [
        "#Tagging Parts of Speech in the tokenized \n",
        "df['pos_tags'] = df['tokenized'].apply(nltk.tag.pos_tag)\n",
        "df.head()"
      ],
      "execution_count": null,
      "outputs": [
        {
          "output_type": "execute_result",
          "data": {
            "text/html": [
              "<div>\n",
              "<style scoped>\n",
              "    .dataframe tbody tr th:only-of-type {\n",
              "        vertical-align: middle;\n",
              "    }\n",
              "\n",
              "    .dataframe tbody tr th {\n",
              "        vertical-align: top;\n",
              "    }\n",
              "\n",
              "    .dataframe thead th {\n",
              "        text-align: right;\n",
              "    }\n",
              "</style>\n",
              "<table border=\"1\" class=\"dataframe\">\n",
              "  <thead>\n",
              "    <tr style=\"text-align: right;\">\n",
              "      <th></th>\n",
              "      <th>title</th>\n",
              "      <th>body</th>\n",
              "      <th>label</th>\n",
              "      <th>clean_body</th>\n",
              "      <th>clean_body_str</th>\n",
              "      <th>tokenized</th>\n",
              "      <th>pos_tags</th>\n",
              "    </tr>\n",
              "  </thead>\n",
              "  <tbody>\n",
              "    <tr>\n",
              "      <th>0</th>\n",
              "      <td>Fuck that Bell!</td>\n",
              "      <td>Sorry for the title, but I wish the bell ringi...</td>\n",
              "      <td>6.0</td>\n",
              "      <td>[fuck, bell, sorry, title, wish, bell, ringing...</td>\n",
              "      <td>fuck bell sorry title wish bell ringing party ...</td>\n",
              "      <td>[fuck, bell, sorry, title, wish, bell, ringing...</td>\n",
              "      <td>[(fuck, NN), (bell, NN), (sorry, JJ), (title, ...</td>\n",
              "    </tr>\n",
              "    <tr>\n",
              "      <th>1</th>\n",
              "      <td>Father suffering from end stage aggression. Wo...</td>\n",
              "      <td>My dad was diagnosed with stage 4 bone cancer ...</td>\n",
              "      <td>7.0</td>\n",
              "      <td>[suffering, end, stage, aggression, will not, ...</td>\n",
              "      <td>suffering end stage aggression will not take p...</td>\n",
              "      <td>[suffering, end, stage, aggression, will, not,...</td>\n",
              "      <td>[(suffering, VBG), (end, NN), (stage, NN), (ag...</td>\n",
              "    </tr>\n",
              "    <tr>\n",
              "      <th>2</th>\n",
              "      <td>last chemo was today :)</td>\n",
              "      <td>just finished my last of 12 abvd infusions. I ...</td>\n",
              "      <td>9.0</td>\n",
              "      <td>[last, chemo, today, just, finished, last, abv...</td>\n",
              "      <td>last chemo today just finished last abvd infus...</td>\n",
              "      <td>[last, chemo, today, just, finished, last, abv...</td>\n",
              "      <td>[(last, JJ), (chemo, NN), (today, NN), (just, ...</td>\n",
              "    </tr>\n",
              "    <tr>\n",
              "      <th>3</th>\n",
              "      <td>ER phobia?</td>\n",
              "      <td>Have any of your loved ones checked out of the...</td>\n",
              "      <td>7.0</td>\n",
              "      <td>[er, phobia, any, ones, checked, hospital, ama...</td>\n",
              "      <td>er phobia any ones checked hospital ama agains...</td>\n",
              "      <td>[er, phobia, any, ones, checked, hospital, ama...</td>\n",
              "      <td>[(er, RB), (phobia, VBZ), (any, DT), (ones, NN...</td>\n",
              "    </tr>\n",
              "    <tr>\n",
              "      <th>4</th>\n",
              "      <td>8 minutes into his appointment, another scene ...</td>\n",
              "      <td>At this point it’s just funny to me. I’m not t...</td>\n",
              "      <td>3.0</td>\n",
              "      <td>[minutes, appointment, scene, made, plus, hosp...</td>\n",
              "      <td>minutes appointment scene made plus hospital h...</td>\n",
              "      <td>[minutes, appointment, scene, made, plus, hosp...</td>\n",
              "      <td>[(minutes, NNS), (appointment, JJ), (scene, NN...</td>\n",
              "    </tr>\n",
              "  </tbody>\n",
              "</table>\n",
              "</div>"
            ],
            "text/plain": [
              "                                               title  ...                                           pos_tags\n",
              "0                                    Fuck that Bell!  ...  [(fuck, NN), (bell, NN), (sorry, JJ), (title, ...\n",
              "1  Father suffering from end stage aggression. Wo...  ...  [(suffering, VBG), (end, NN), (stage, NN), (ag...\n",
              "2                            last chemo was today :)  ...  [(last, JJ), (chemo, NN), (today, NN), (just, ...\n",
              "3                                         ER phobia?  ...  [(er, RB), (phobia, VBZ), (any, DT), (ones, NN...\n",
              "4  8 minutes into his appointment, another scene ...  ...  [(minutes, NNS), (appointment, JJ), (scene, NN...\n",
              "\n",
              "[5 rows x 7 columns]"
            ]
          },
          "metadata": {
            "tags": []
          },
          "execution_count": 19
        }
      ]
    },
    {
      "cell_type": "code",
      "metadata": {
        "id": "G1s7exrEZxFg"
      },
      "source": [
        "def get_wordnet_pos(tag):\n",
        "    if tag.startswith('J'):\n",
        "        return wordnet.ADJ\n",
        "    elif tag.startswith('V'):\n",
        "        return wordnet.VERB\n",
        "    elif tag.startswith('N'):\n",
        "        return wordnet.NOUN\n",
        "    elif tag.startswith('R'):\n",
        "        return wordnet.ADV\n",
        "    else:\n",
        "        return wordnet.NOUN"
      ],
      "execution_count": null,
      "outputs": []
    },
    {
      "cell_type": "code",
      "metadata": {
        "id": "3-6BgX72Z_ld",
        "colab": {
          "base_uri": "https://localhost:8080/",
          "height": 408
        },
        "outputId": "87bfa4cf-d69b-4e17-8085-894dee6cfb47"
      },
      "source": [
        "df['wordnet_pos'] = df['pos_tags'].apply(lambda x: [(word, get_wordnet_pos(pos_tag)) for (word, pos_tag) in x])\n",
        "df.head()\n"
      ],
      "execution_count": null,
      "outputs": [
        {
          "output_type": "execute_result",
          "data": {
            "text/html": [
              "<div>\n",
              "<style scoped>\n",
              "    .dataframe tbody tr th:only-of-type {\n",
              "        vertical-align: middle;\n",
              "    }\n",
              "\n",
              "    .dataframe tbody tr th {\n",
              "        vertical-align: top;\n",
              "    }\n",
              "\n",
              "    .dataframe thead th {\n",
              "        text-align: right;\n",
              "    }\n",
              "</style>\n",
              "<table border=\"1\" class=\"dataframe\">\n",
              "  <thead>\n",
              "    <tr style=\"text-align: right;\">\n",
              "      <th></th>\n",
              "      <th>title</th>\n",
              "      <th>body</th>\n",
              "      <th>label</th>\n",
              "      <th>clean_body</th>\n",
              "      <th>clean_body_str</th>\n",
              "      <th>tokenized</th>\n",
              "      <th>pos_tags</th>\n",
              "      <th>wordnet_pos</th>\n",
              "    </tr>\n",
              "  </thead>\n",
              "  <tbody>\n",
              "    <tr>\n",
              "      <th>0</th>\n",
              "      <td>Fuck that Bell!</td>\n",
              "      <td>Sorry for the title, but I wish the bell ringi...</td>\n",
              "      <td>6.0</td>\n",
              "      <td>[fuck, bell, sorry, title, wish, bell, ringing...</td>\n",
              "      <td>fuck bell sorry title wish bell ringing party ...</td>\n",
              "      <td>[fuck, bell, sorry, title, wish, bell, ringing...</td>\n",
              "      <td>[(fuck, NN), (bell, NN), (sorry, JJ), (title, ...</td>\n",
              "      <td>[(fuck, n), (bell, n), (sorry, a), (title, n),...</td>\n",
              "    </tr>\n",
              "    <tr>\n",
              "      <th>1</th>\n",
              "      <td>Father suffering from end stage aggression. Wo...</td>\n",
              "      <td>My dad was diagnosed with stage 4 bone cancer ...</td>\n",
              "      <td>7.0</td>\n",
              "      <td>[suffering, end, stage, aggression, will not, ...</td>\n",
              "      <td>suffering end stage aggression will not take p...</td>\n",
              "      <td>[suffering, end, stage, aggression, will, not,...</td>\n",
              "      <td>[(suffering, VBG), (end, NN), (stage, NN), (ag...</td>\n",
              "      <td>[(suffering, v), (end, n), (stage, n), (aggres...</td>\n",
              "    </tr>\n",
              "    <tr>\n",
              "      <th>2</th>\n",
              "      <td>last chemo was today :)</td>\n",
              "      <td>just finished my last of 12 abvd infusions. I ...</td>\n",
              "      <td>9.0</td>\n",
              "      <td>[last, chemo, today, just, finished, last, abv...</td>\n",
              "      <td>last chemo today just finished last abvd infus...</td>\n",
              "      <td>[last, chemo, today, just, finished, last, abv...</td>\n",
              "      <td>[(last, JJ), (chemo, NN), (today, NN), (just, ...</td>\n",
              "      <td>[(last, a), (chemo, n), (today, n), (just, r),...</td>\n",
              "    </tr>\n",
              "    <tr>\n",
              "      <th>3</th>\n",
              "      <td>ER phobia?</td>\n",
              "      <td>Have any of your loved ones checked out of the...</td>\n",
              "      <td>7.0</td>\n",
              "      <td>[er, phobia, any, ones, checked, hospital, ama...</td>\n",
              "      <td>er phobia any ones checked hospital ama agains...</td>\n",
              "      <td>[er, phobia, any, ones, checked, hospital, ama...</td>\n",
              "      <td>[(er, RB), (phobia, VBZ), (any, DT), (ones, NN...</td>\n",
              "      <td>[(er, r), (phobia, v), (any, n), (ones, n), (c...</td>\n",
              "    </tr>\n",
              "    <tr>\n",
              "      <th>4</th>\n",
              "      <td>8 minutes into his appointment, another scene ...</td>\n",
              "      <td>At this point it’s just funny to me. I’m not t...</td>\n",
              "      <td>3.0</td>\n",
              "      <td>[minutes, appointment, scene, made, plus, hosp...</td>\n",
              "      <td>minutes appointment scene made plus hospital h...</td>\n",
              "      <td>[minutes, appointment, scene, made, plus, hosp...</td>\n",
              "      <td>[(minutes, NNS), (appointment, JJ), (scene, NN...</td>\n",
              "      <td>[(minutes, n), (appointment, a), (scene, n), (...</td>\n",
              "    </tr>\n",
              "  </tbody>\n",
              "</table>\n",
              "</div>"
            ],
            "text/plain": [
              "                                               title  ...                                        wordnet_pos\n",
              "0                                    Fuck that Bell!  ...  [(fuck, n), (bell, n), (sorry, a), (title, n),...\n",
              "1  Father suffering from end stage aggression. Wo...  ...  [(suffering, v), (end, n), (stage, n), (aggres...\n",
              "2                            last chemo was today :)  ...  [(last, a), (chemo, n), (today, n), (just, r),...\n",
              "3                                         ER phobia?  ...  [(er, r), (phobia, v), (any, n), (ones, n), (c...\n",
              "4  8 minutes into his appointment, another scene ...  ...  [(minutes, n), (appointment, a), (scene, n), (...\n",
              "\n",
              "[5 rows x 8 columns]"
            ]
          },
          "metadata": {
            "tags": []
          },
          "execution_count": 21
        }
      ]
    },
    {
      "cell_type": "code",
      "metadata": {
        "id": "JPyWyfpNaNSn",
        "colab": {
          "base_uri": "https://localhost:8080/",
          "height": 493
        },
        "outputId": "3cc01c3e-d2bb-468f-cc6f-aa19a35884bf"
      },
      "source": [
        "#Lemmatization\n",
        "wnl = WordNetLemmatizer()\n",
        "df['lemmatized'] = df['wordnet_pos'].apply(lambda x: [wnl.lemmatize(word, tag) for word, tag in x])\n",
        "df.head()"
      ],
      "execution_count": null,
      "outputs": [
        {
          "output_type": "execute_result",
          "data": {
            "text/html": [
              "<div>\n",
              "<style scoped>\n",
              "    .dataframe tbody tr th:only-of-type {\n",
              "        vertical-align: middle;\n",
              "    }\n",
              "\n",
              "    .dataframe tbody tr th {\n",
              "        vertical-align: top;\n",
              "    }\n",
              "\n",
              "    .dataframe thead th {\n",
              "        text-align: right;\n",
              "    }\n",
              "</style>\n",
              "<table border=\"1\" class=\"dataframe\">\n",
              "  <thead>\n",
              "    <tr style=\"text-align: right;\">\n",
              "      <th></th>\n",
              "      <th>title</th>\n",
              "      <th>body</th>\n",
              "      <th>label</th>\n",
              "      <th>clean_body</th>\n",
              "      <th>clean_body_str</th>\n",
              "      <th>tokenized</th>\n",
              "      <th>pos_tags</th>\n",
              "      <th>wordnet_pos</th>\n",
              "      <th>lemmatized</th>\n",
              "    </tr>\n",
              "  </thead>\n",
              "  <tbody>\n",
              "    <tr>\n",
              "      <th>0</th>\n",
              "      <td>Fuck that Bell!</td>\n",
              "      <td>Sorry for the title, but I wish the bell ringi...</td>\n",
              "      <td>6.0</td>\n",
              "      <td>[fuck, bell, sorry, title, wish, bell, ringing...</td>\n",
              "      <td>fuck bell sorry title wish bell ringing party ...</td>\n",
              "      <td>[fuck, bell, sorry, title, wish, bell, ringing...</td>\n",
              "      <td>[(fuck, NN), (bell, NN), (sorry, JJ), (title, ...</td>\n",
              "      <td>[(fuck, n), (bell, n), (sorry, a), (title, n),...</td>\n",
              "      <td>[fuck, bell, sorry, title, wish, bell, ring, p...</td>\n",
              "    </tr>\n",
              "    <tr>\n",
              "      <th>1</th>\n",
              "      <td>Father suffering from end stage aggression. Wo...</td>\n",
              "      <td>My dad was diagnosed with stage 4 bone cancer ...</td>\n",
              "      <td>7.0</td>\n",
              "      <td>[suffering, end, stage, aggression, will not, ...</td>\n",
              "      <td>suffering end stage aggression will not take p...</td>\n",
              "      <td>[suffering, end, stage, aggression, will, not,...</td>\n",
              "      <td>[(suffering, VBG), (end, NN), (stage, NN), (ag...</td>\n",
              "      <td>[(suffering, v), (end, n), (stage, n), (aggres...</td>\n",
              "      <td>[suffer, end, stage, aggression, will, not, ta...</td>\n",
              "    </tr>\n",
              "    <tr>\n",
              "      <th>2</th>\n",
              "      <td>last chemo was today :)</td>\n",
              "      <td>just finished my last of 12 abvd infusions. I ...</td>\n",
              "      <td>9.0</td>\n",
              "      <td>[last, chemo, today, just, finished, last, abv...</td>\n",
              "      <td>last chemo today just finished last abvd infus...</td>\n",
              "      <td>[last, chemo, today, just, finished, last, abv...</td>\n",
              "      <td>[(last, JJ), (chemo, NN), (today, NN), (just, ...</td>\n",
              "      <td>[(last, a), (chemo, n), (today, n), (just, r),...</td>\n",
              "      <td>[last, chemo, today, just, finish, last, abvd,...</td>\n",
              "    </tr>\n",
              "    <tr>\n",
              "      <th>3</th>\n",
              "      <td>ER phobia?</td>\n",
              "      <td>Have any of your loved ones checked out of the...</td>\n",
              "      <td>7.0</td>\n",
              "      <td>[er, phobia, any, ones, checked, hospital, ama...</td>\n",
              "      <td>er phobia any ones checked hospital ama agains...</td>\n",
              "      <td>[er, phobia, any, ones, checked, hospital, ama...</td>\n",
              "      <td>[(er, RB), (phobia, VBZ), (any, DT), (ones, NN...</td>\n",
              "      <td>[(er, r), (phobia, v), (any, n), (ones, n), (c...</td>\n",
              "      <td>[er, phobia, any, one, check, hospital, ama, a...</td>\n",
              "    </tr>\n",
              "    <tr>\n",
              "      <th>4</th>\n",
              "      <td>8 minutes into his appointment, another scene ...</td>\n",
              "      <td>At this point it’s just funny to me. I’m not t...</td>\n",
              "      <td>3.0</td>\n",
              "      <td>[minutes, appointment, scene, made, plus, hosp...</td>\n",
              "      <td>minutes appointment scene made plus hospital h...</td>\n",
              "      <td>[minutes, appointment, scene, made, plus, hosp...</td>\n",
              "      <td>[(minutes, NNS), (appointment, JJ), (scene, NN...</td>\n",
              "      <td>[(minutes, n), (appointment, a), (scene, n), (...</td>\n",
              "      <td>[minute, appointment, scene, make, plus, hospi...</td>\n",
              "    </tr>\n",
              "  </tbody>\n",
              "</table>\n",
              "</div>"
            ],
            "text/plain": [
              "                                               title  ...                                         lemmatized\n",
              "0                                    Fuck that Bell!  ...  [fuck, bell, sorry, title, wish, bell, ring, p...\n",
              "1  Father suffering from end stage aggression. Wo...  ...  [suffer, end, stage, aggression, will, not, ta...\n",
              "2                            last chemo was today :)  ...  [last, chemo, today, just, finish, last, abvd,...\n",
              "3                                         ER phobia?  ...  [er, phobia, any, one, check, hospital, ama, a...\n",
              "4  8 minutes into his appointment, another scene ...  ...  [minute, appointment, scene, make, plus, hospi...\n",
              "\n",
              "[5 rows x 9 columns]"
            ]
          },
          "metadata": {
            "tags": []
          },
          "execution_count": 22
        }
      ]
    },
    {
      "cell_type": "code",
      "metadata": {
        "id": "FfYVhnWcgMir"
      },
      "source": [
        "df.to_pickle(\"Reddit_dataset_clean.pkl\")"
      ],
      "execution_count": null,
      "outputs": []
    },
    {
      "cell_type": "code",
      "metadata": {
        "id": "Uau6VNs0abEh"
      },
      "source": [
        "df.to_csv('Reddit_dataset_clean_labelled.csv')"
      ],
      "execution_count": null,
      "outputs": []
    }
  ]
}